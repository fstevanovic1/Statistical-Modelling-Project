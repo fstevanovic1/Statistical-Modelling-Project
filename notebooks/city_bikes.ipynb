{
 "cells": [
  {
   "cell_type": "markdown",
   "metadata": {},
   "source": [
    "# CityBikes"
   ]
  },
  {
   "cell_type": "markdown",
   "metadata": {},
   "source": [
    "Send a request to CityBikes for the city of your choice. "
   ]
  },
  {
   "cell_type": "code",
   "execution_count": 95,
   "metadata": {
    "tags": []
   },
   "outputs": [],
   "source": [
    "import requests\n",
    "import pandas as pd\n",
    "\n",
    "#MobiBike Vancouver, BC. Getting our response\n",
    "response = requests.get(\"http://api.citybik.es/v2/networks/mobibikes?fields=stations\")\n",
    "\n",
    "#response.json()"
   ]
  },
  {
   "cell_type": "markdown",
   "metadata": {},
   "source": [
    "Parse through the response to get the details you want for the bike stations in that city (latitude, longitude, number of bikes). "
   ]
  },
  {
   "cell_type": "code",
   "execution_count": 96,
   "metadata": {
    "tags": []
   },
   "outputs": [],
   "source": [
    "#Put the response text into a dictionary to read\n",
    "stations = pd.read_json(response.text)\n",
    "\n",
    "#Instantiate a dictionary to put the parsed data in\n",
    "parsedData = {'latitude': [],\n",
    "              'longitude': [],\n",
    "              'free_bikes': []}\n",
    "\n",
    "#Grab the parsed data and put it into the array\n",
    "for i in range(len(stations['network']['stations'])):\n",
    "    parsedData['latitude'].append(stations['network']['stations'][i]['latitude'])\n",
    "    parsedData['longitude'].append(stations['network']['stations'][i]['longitude'])\n",
    "    parsedData['free_bikes'].append(stations['network']['stations'][i]['free_bikes'])\n",
    "    \n",
    "#print(parsedData)   "
   ]
  },
  {
   "cell_type": "markdown",
   "metadata": {},
   "source": [
    "Put your parsed results into a DataFrame."
   ]
  },
  {
   "cell_type": "code",
   "execution_count": 99,
   "metadata": {
    "tags": []
   },
   "outputs": [],
   "source": [
    "#Putting results into dataframe\n",
    "bikesDataFrame = pd.DataFrame.from_dict(parsedData)\n",
    "#print(bikesDataFrame)"
   ]
  },
  {
   "cell_type": "code",
   "execution_count": null,
   "metadata": {},
   "outputs": [],
   "source": []
  }
 ],
 "metadata": {
  "kernelspec": {
   "display_name": "Python 3 (ipykernel)",
   "language": "python",
   "name": "python3"
  },
  "language_info": {
   "codemirror_mode": {
    "name": "ipython",
    "version": 3
   },
   "file_extension": ".py",
   "mimetype": "text/x-python",
   "name": "python",
   "nbconvert_exporter": "python",
   "pygments_lexer": "ipython3",
   "version": "3.11.5"
  }
 },
 "nbformat": 4,
 "nbformat_minor": 4
}
