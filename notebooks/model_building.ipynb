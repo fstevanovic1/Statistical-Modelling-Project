{
 "cells": [
  {
   "cell_type": "markdown",
   "metadata": {},
   "source": [
    "Build a regression model."
   ]
  },
  {
   "cell_type": "code",
   "execution_count": 2,
   "metadata": {
    "tags": []
   },
   "outputs": [],
   "source": [
    "import statsmodels.api as sm\n",
    "import numpy as np\n",
    "import pandas as pd\n",
    "import math\n",
    "from sklearn import linear_model\n"
   ]
  },
  {
   "cell_type": "code",
   "execution_count": 3,
   "metadata": {
    "tags": []
   },
   "outputs": [],
   "source": [
    "totalData = pd.read_csv('data/totalData.csv', sep=',')"
   ]
  },
  {
   "cell_type": "code",
   "execution_count": 4,
   "metadata": {
    "tags": []
   },
   "outputs": [
    {
     "ename": "NameError",
     "evalue": "name 'math' is not defined",
     "output_type": "error",
     "traceback": [
      "\u001b[1;31m---------------------------------------------------------------------------\u001b[0m",
      "\u001b[1;31mNameError\u001b[0m                                 Traceback (most recent call last)",
      "Cell \u001b[1;32mIn[4], line 5\u001b[0m\n\u001b[0;32m      3\u001b[0m \u001b[38;5;28;01mfor\u001b[39;00m index, row \u001b[38;5;129;01min\u001b[39;00m X\u001b[38;5;241m.\u001b[39miterrows():\n\u001b[0;32m      4\u001b[0m     \u001b[38;5;28;01mfor\u001b[39;00m key \u001b[38;5;129;01min\u001b[39;00m row\u001b[38;5;241m.\u001b[39mkeys():\n\u001b[1;32m----> 5\u001b[0m         \u001b[38;5;28;01mif\u001b[39;00m math\u001b[38;5;241m.\u001b[39misnan(row[key]):\n\u001b[0;32m      6\u001b[0m             \u001b[38;5;28;01mtry\u001b[39;00m:\n\u001b[0;32m      7\u001b[0m                 X \u001b[38;5;241m=\u001b[39m X\u001b[38;5;241m.\u001b[39mdrop(index)\n",
      "\u001b[1;31mNameError\u001b[0m: name 'math' is not defined"
     ]
    }
   ],
   "source": [
    "#Getting rid of values that can't be used in regression such as strings and NULL's\n",
    "X = totalData.drop(columns = [\"names\", \"locations\"])\n",
    "for index, row in X.iterrows():\n",
    "    for key in row.keys():\n",
    "        if math.isnan(row[key]):\n",
    "            try:\n",
    "                X = X.drop(index)\n",
    "            except:\n",
    "                pass\n",
    "#Making sure the data is the same shape            \n",
    "y = X[\"free_bikes\"]\n",
    "X = X.drop(columns = [\"free_bikes\"])\n",
    "\n",
    "X = sm.add_constant(X) \n",
    "lin_reg = sm.OLS(y,X.astype(float))"
   ]
  },
  {
   "cell_type": "markdown",
   "metadata": {},
   "source": [
    "Provide model output and an interpretation of the results. "
   ]
  },
  {
   "cell_type": "code",
   "execution_count": 21,
   "metadata": {
    "tags": []
   },
   "outputs": [
    {
     "name": "stdout",
     "output_type": "stream",
     "text": [
      "                            OLS Regression Results                            \n",
      "==============================================================================\n",
      "Dep. Variable:             free_bikes   R-squared:                       0.113\n",
      "Model:                            OLS   Adj. R-squared:                  0.109\n",
      "Method:                 Least Squares   F-statistic:                     26.53\n",
      "Date:                Mon, 20 Nov 2023   Prob (F-statistic):           5.99e-39\n",
      "Time:                        10:21:19   Log-Likelihood:                -5357.7\n",
      "No. Observations:                1674   AIC:                         1.073e+04\n",
      "Df Residuals:                    1665   BIC:                         1.078e+04\n",
      "Df Model:                           8                                         \n",
      "Covariance Type:            nonrobust                                         \n",
      "=================================================================================\n",
      "                    coef    std err          t      P>|t|      [0.025      0.975]\n",
      "---------------------------------------------------------------------------------\n",
      "const          -1.24e+04    922.889    -13.436      0.000   -1.42e+04   -1.06e+04\n",
      "latitude        168.2699     14.617     11.512      0.000     139.599     196.940\n",
      "longitude       -33.4579      4.847     -6.903      0.000     -42.964     -23.952\n",
      "ratings          -0.2806      0.334     -0.839      0.401      -0.936       0.375\n",
      "distances         0.0005      0.001      0.594      0.553      -0.001       0.002\n",
      "price            -0.1578      0.216     -0.730      0.466      -0.582       0.266\n",
      "popularity        0.9867      2.127      0.464      0.643      -3.185       5.158\n",
      "total_photos     -0.0020      0.002     -1.050      0.294      -0.006       0.002\n",
      "total_ratings     0.0044      0.003      1.688      0.092      -0.001       0.009\n",
      "==============================================================================\n",
      "Omnibus:                      246.972   Durbin-Watson:                   0.260\n",
      "Prob(Omnibus):                  0.000   Jarque-Bera (JB):              440.639\n",
      "Skew:                           0.934   Prob(JB):                     2.07e-96\n",
      "Kurtosis:                       4.681   Cond. No.                     2.94e+06\n",
      "==============================================================================\n",
      "\n",
      "Notes:\n",
      "[1] Standard Errors assume that the covariance matrix of the errors is correctly specified.\n",
      "[2] The condition number is large, 2.94e+06. This might indicate that there are\n",
      "strong multicollinearity or other numerical problems.\n"
     ]
    }
   ],
   "source": [
    "model = lin_reg.fit()\n",
    "print_model = model.summary()\n",
    "print(print_model)"
   ]
  },
  {
   "cell_type": "markdown",
   "metadata": {},
   "source": [
    "We see here that we have an R-squared of only 0.113 for free bikes to all the data given. This shows that the independent variables are mostly not responsible for the variation in the free bikes axis.\n",
    "There may be other factors outside of the data collected by FourSquare that determines how many bikes are free."
   ]
  },
  {
   "cell_type": "markdown",
   "metadata": {},
   "source": [
    "# Stretch"
   ]
  },
  {
   "cell_type": "markdown",
   "metadata": {},
   "source": [
    "How can you turn the regression model into a classification model?"
   ]
  },
  {
   "cell_type": "code",
   "execution_count": null,
   "metadata": {},
   "outputs": [],
   "source": []
  }
 ],
 "metadata": {
  "kernelspec": {
   "display_name": "Python 3 (ipykernel)",
   "language": "python",
   "name": "python3"
  },
  "language_info": {
   "codemirror_mode": {
    "name": "ipython",
    "version": 3
   },
   "file_extension": ".py",
   "mimetype": "text/x-python",
   "name": "python",
   "nbconvert_exporter": "python",
   "pygments_lexer": "ipython3",
   "version": "3.11.5"
  }
 },
 "nbformat": 4,
 "nbformat_minor": 4
}
